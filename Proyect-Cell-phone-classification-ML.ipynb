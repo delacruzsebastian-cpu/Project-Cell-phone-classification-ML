{
  "nbformat": 4,
  "nbformat_minor": 0,
  "metadata": {
    "colab": {
      "name": "PROYECTOIA.ipynb",
      "provenance": [],
      "collapsed_sections": [],
      "mount_file_id": "1hMVXibbZpIgrUlquxu6OfdWG8TN-eDWf",
      "authorship_tag": "ABX9TyMbBupip4mtMHcbeaPTXogF",
      "include_colab_link": true
    },
    "kernelspec": {
      "name": "python3",
      "display_name": "Python 3"
    },
    "language_info": {
      "name": "python"
    }
  },
  "cells": [
    {
      "cell_type": "markdown",
      "metadata": {
        "id": "view-in-github",
        "colab_type": "text"
      },
      "source": [
        "<a href=\"https://colab.research.google.com/github/delacruzsebastian-cpu/Proyect-Cell-phone-classification-ML/blob/main/Proyect-Cell-phone-classification-ML.ipynb\" target=\"_parent\"><img src=\"https://colab.research.google.com/assets/colab-badge.svg\" alt=\"Open In Colab\"/></a>"
      ]
    },
    {
      "cell_type": "markdown",
      "metadata": {
        "id": "JffJq5auOwHO"
      },
      "source": [
        "# Proyect Cell phone classification-ML\n",
        "**SEBASTIAN DE LA CRUZ**\n",
        "\n",
        "**NATALIA GUEVARA**\n"
      ]
    },
    {
      "cell_type": "code",
      "metadata": {
        "id": "CCH0PRZSaLGl"
      },
      "source": [
        "import warnings  \n",
        "warnings.filterwarnings('ignore')\n",
        "import pandas as pd\n",
        "import numpy as np\n",
        "import matplotlib.pyplot as plt\n",
        "import timeit\n",
        "%matplotlib inline\n",
        "from sklearn.preprocessing import MinMaxScaler\n",
        "from sklearn.model_selection import train_test_split\n",
        "from sklearn.model_selection import RandomizedSearchCV\n",
        "from sklearn.model_selection import GridSearchCV\n",
        "\n",
        "from hyperopt import STATUS_OK, Trials, fmin, hp, tpe\n",
        "from scipy.spatial import distance\n",
        "from sklearn import svm\n",
        "# Implementación de Modelos\n",
        "from sklearn.neighbors import KNeighborsClassifier\n",
        "from sklearn.neighbors import DistanceMetric\n",
        "from sklearn.linear_model import LogisticRegression\n",
        "from sklearn import svm\n",
        "from sklearn.preprocessing import StandardScaler #Escalizar datos \n",
        "# Métricas a implementar\n",
        "from sklearn.metrics import matthews_corrcoef, accuracy_score, f1_score\n",
        "from sklearn.metrics import classification_report\n",
        "from sklearn.metrics import confusion_matrix\n",
        "\n",
        "\n"
      ],
      "execution_count": 71,
      "outputs": []
    },
    {
      "cell_type": "markdown",
      "metadata": {
        "id": "RceSrSiBPOa0"
      },
      "source": [
        "**Dataset Upload (See README)**"
      ]
    },
    {
      "cell_type": "code",
      "metadata": {
        "colab": {
          "base_uri": "https://localhost:8080/",
          "height": 218
        },
        "id": "RLaWKf1JaaRG",
        "outputId": "0069dc4c-5fa9-495a-a158-3e40dd6bf55c"
      },
      "source": [
        "data = pd.read_csv('/content/drive/MyDrive/train.csv')\n",
        "data.head()"
      ],
      "execution_count": 72,
      "outputs": [
        {
          "output_type": "execute_result",
          "data": {
            "text/html": [
              "<div>\n",
              "<style scoped>\n",
              "    .dataframe tbody tr th:only-of-type {\n",
              "        vertical-align: middle;\n",
              "    }\n",
              "\n",
              "    .dataframe tbody tr th {\n",
              "        vertical-align: top;\n",
              "    }\n",
              "\n",
              "    .dataframe thead th {\n",
              "        text-align: right;\n",
              "    }\n",
              "</style>\n",
              "<table border=\"1\" class=\"dataframe\">\n",
              "  <thead>\n",
              "    <tr style=\"text-align: right;\">\n",
              "      <th></th>\n",
              "      <th>battery_power</th>\n",
              "      <th>blue</th>\n",
              "      <th>clock_speed</th>\n",
              "      <th>dual_sim</th>\n",
              "      <th>fc</th>\n",
              "      <th>four_g</th>\n",
              "      <th>int_memory</th>\n",
              "      <th>m_dep</th>\n",
              "      <th>mobile_wt</th>\n",
              "      <th>n_cores</th>\n",
              "      <th>pc</th>\n",
              "      <th>px_height</th>\n",
              "      <th>px_width</th>\n",
              "      <th>ram</th>\n",
              "      <th>sc_h</th>\n",
              "      <th>sc_w</th>\n",
              "      <th>talk_time</th>\n",
              "      <th>three_g</th>\n",
              "      <th>touch_screen</th>\n",
              "      <th>wifi</th>\n",
              "      <th>price_range</th>\n",
              "    </tr>\n",
              "  </thead>\n",
              "  <tbody>\n",
              "    <tr>\n",
              "      <th>0</th>\n",
              "      <td>842</td>\n",
              "      <td>0</td>\n",
              "      <td>2.2</td>\n",
              "      <td>0</td>\n",
              "      <td>1</td>\n",
              "      <td>0</td>\n",
              "      <td>7</td>\n",
              "      <td>0.6</td>\n",
              "      <td>188</td>\n",
              "      <td>2</td>\n",
              "      <td>2</td>\n",
              "      <td>20</td>\n",
              "      <td>756</td>\n",
              "      <td>2549</td>\n",
              "      <td>9</td>\n",
              "      <td>7</td>\n",
              "      <td>19</td>\n",
              "      <td>0</td>\n",
              "      <td>0</td>\n",
              "      <td>1</td>\n",
              "      <td>1</td>\n",
              "    </tr>\n",
              "    <tr>\n",
              "      <th>1</th>\n",
              "      <td>1021</td>\n",
              "      <td>1</td>\n",
              "      <td>0.5</td>\n",
              "      <td>1</td>\n",
              "      <td>0</td>\n",
              "      <td>1</td>\n",
              "      <td>53</td>\n",
              "      <td>0.7</td>\n",
              "      <td>136</td>\n",
              "      <td>3</td>\n",
              "      <td>6</td>\n",
              "      <td>905</td>\n",
              "      <td>1988</td>\n",
              "      <td>2631</td>\n",
              "      <td>17</td>\n",
              "      <td>3</td>\n",
              "      <td>7</td>\n",
              "      <td>1</td>\n",
              "      <td>1</td>\n",
              "      <td>0</td>\n",
              "      <td>2</td>\n",
              "    </tr>\n",
              "    <tr>\n",
              "      <th>2</th>\n",
              "      <td>563</td>\n",
              "      <td>1</td>\n",
              "      <td>0.5</td>\n",
              "      <td>1</td>\n",
              "      <td>2</td>\n",
              "      <td>1</td>\n",
              "      <td>41</td>\n",
              "      <td>0.9</td>\n",
              "      <td>145</td>\n",
              "      <td>5</td>\n",
              "      <td>6</td>\n",
              "      <td>1263</td>\n",
              "      <td>1716</td>\n",
              "      <td>2603</td>\n",
              "      <td>11</td>\n",
              "      <td>2</td>\n",
              "      <td>9</td>\n",
              "      <td>1</td>\n",
              "      <td>1</td>\n",
              "      <td>0</td>\n",
              "      <td>2</td>\n",
              "    </tr>\n",
              "    <tr>\n",
              "      <th>3</th>\n",
              "      <td>615</td>\n",
              "      <td>1</td>\n",
              "      <td>2.5</td>\n",
              "      <td>0</td>\n",
              "      <td>0</td>\n",
              "      <td>0</td>\n",
              "      <td>10</td>\n",
              "      <td>0.8</td>\n",
              "      <td>131</td>\n",
              "      <td>6</td>\n",
              "      <td>9</td>\n",
              "      <td>1216</td>\n",
              "      <td>1786</td>\n",
              "      <td>2769</td>\n",
              "      <td>16</td>\n",
              "      <td>8</td>\n",
              "      <td>11</td>\n",
              "      <td>1</td>\n",
              "      <td>0</td>\n",
              "      <td>0</td>\n",
              "      <td>2</td>\n",
              "    </tr>\n",
              "    <tr>\n",
              "      <th>4</th>\n",
              "      <td>1821</td>\n",
              "      <td>1</td>\n",
              "      <td>1.2</td>\n",
              "      <td>0</td>\n",
              "      <td>13</td>\n",
              "      <td>1</td>\n",
              "      <td>44</td>\n",
              "      <td>0.6</td>\n",
              "      <td>141</td>\n",
              "      <td>2</td>\n",
              "      <td>14</td>\n",
              "      <td>1208</td>\n",
              "      <td>1212</td>\n",
              "      <td>1411</td>\n",
              "      <td>8</td>\n",
              "      <td>2</td>\n",
              "      <td>15</td>\n",
              "      <td>1</td>\n",
              "      <td>1</td>\n",
              "      <td>0</td>\n",
              "      <td>1</td>\n",
              "    </tr>\n",
              "  </tbody>\n",
              "</table>\n",
              "</div>"
            ],
            "text/plain": [
              "   battery_power  blue  clock_speed  ...  touch_screen  wifi  price_range\n",
              "0            842     0          2.2  ...             0     1            1\n",
              "1           1021     1          0.5  ...             1     0            2\n",
              "2            563     1          0.5  ...             1     0            2\n",
              "3            615     1          2.5  ...             0     0            2\n",
              "4           1821     1          1.2  ...             1     0            1\n",
              "\n",
              "[5 rows x 21 columns]"
            ]
          },
          "metadata": {
            "tags": []
          },
          "execution_count": 72
        }
      ]
    },
    {
      "cell_type": "code",
      "metadata": {
        "colab": {
          "base_uri": "https://localhost:8080/",
          "height": 0
        },
        "id": "M3AUiyfxfOyK",
        "outputId": "f090d1a3-3736-4680-a797-f51b086084af"
      },
      "source": [
        "data.isnull().sum()"
      ],
      "execution_count": 73,
      "outputs": [
        {
          "output_type": "execute_result",
          "data": {
            "text/plain": [
              "battery_power    0\n",
              "blue             0\n",
              "clock_speed      0\n",
              "dual_sim         0\n",
              "fc               0\n",
              "four_g           0\n",
              "int_memory       0\n",
              "m_dep            0\n",
              "mobile_wt        0\n",
              "n_cores          0\n",
              "pc               0\n",
              "px_height        0\n",
              "px_width         0\n",
              "ram              0\n",
              "sc_h             0\n",
              "sc_w             0\n",
              "talk_time        0\n",
              "three_g          0\n",
              "touch_screen     0\n",
              "wifi             0\n",
              "price_range      0\n",
              "dtype: int64"
            ]
          },
          "metadata": {
            "tags": []
          },
          "execution_count": 73
        }
      ]
    },
    {
      "cell_type": "code",
      "metadata": {
        "colab": {
          "base_uri": "https://localhost:8080/",
          "height": 0
        },
        "id": "OpZqJof5fRKP",
        "outputId": "65708461-129f-4c24-c701-49efcdc04178"
      },
      "source": [
        "data.columns"
      ],
      "execution_count": 74,
      "outputs": [
        {
          "output_type": "execute_result",
          "data": {
            "text/plain": [
              "Index(['battery_power', 'blue', 'clock_speed', 'dual_sim', 'fc', 'four_g',\n",
              "       'int_memory', 'm_dep', 'mobile_wt', 'n_cores', 'pc', 'px_height',\n",
              "       'px_width', 'ram', 'sc_h', 'sc_w', 'talk_time', 'three_g',\n",
              "       'touch_screen', 'wifi', 'price_range'],\n",
              "      dtype='object')"
            ]
          },
          "metadata": {
            "tags": []
          },
          "execution_count": 74
        }
      ]
    },
    {
      "cell_type": "markdown",
      "metadata": {
        "id": "0OTU5a6LPxoi"
      },
      "source": [
        "**Data pre-processing**"
      ]
    },
    {
      "cell_type": "code",
      "metadata": {
        "id": "BcE4oxujfnuy"
      },
      "source": [
        "features = ['battery_power', 'fc', 'clock_speed', 'int_memory', 'm_dep', 'mobile_wt', 'n_cores', 'pc', 'px_height', 'ram', 'px_width', 'sc_h', 'sc_w', 'talk_time','blue', 'dual_sim', 'four_g','three_g','touch_screen','wifi']\n",
        "label = ['price_range']\n",
        "X=data[features]\n",
        "y=data[label]\n",
        "\n",
        "X_train,X_test, y_train,y_test= train_test_split(X,y,test_size=0.30, shuffle=True)\n",
        "scaler = MinMaxScaler()\n",
        "\n",
        "X_train_scaled = scaler.fit_transform(X_train)\n",
        "X_test_scaled = scaler.transform(X_test)\n",
        "\n",
        "X_train=X_train_scaled\n",
        "X_test=X_test_scaled"
      ],
      "execution_count": 75,
      "outputs": []
    },
    {
      "cell_type": "markdown",
      "metadata": {
        "id": "OeRDxIjiP16q"
      },
      "source": [
        "# Modelos de clasificación"
      ]
    },
    {
      "cell_type": "markdown",
      "metadata": {
        "id": "h9zLVAvxgcne"
      },
      "source": [
        "**K Nearest Neighbors Classifier**\n",
        "\n",
        "*Best neighbors number selection (k)*"
      ]
    },
    {
      "cell_type": "code",
      "metadata": {
        "colab": {
          "base_uri": "https://localhost:8080/",
          "height": 905
        },
        "id": "RB-T9xk8gXTM",
        "outputId": "785633ea-aa7c-4e1d-a2bd-56ee25047794"
      },
      "source": [
        "k_range = range(1, int(np.sqrt(len(y_train))))\n",
        "\n",
        "#Distances: euclidean. manhattan. chebyshev. minkowski. seuclidean. mahalanobis. hamming\n",
        "distance='euclidean'\n",
        "\n",
        "scores = []\n",
        "acc = []\n",
        "MCC = []\n",
        "F1 = []\n",
        "\n",
        "for k in k_range:\n",
        "  knn = KNeighborsClassifier(n_neighbors = k, weights='uniform', metric=distance, metric_params=None, algorithm='brute')\n",
        "  knn.fit(X_train, y_train)\n",
        "  scores.append(knn.score(X_test, y_test))\n",
        "  y_test_predict = knn.predict(X_test)\n",
        "  acc.append(accuracy_score(y_test, y_test_predict))\n",
        "  MCC.append(matthews_corrcoef(y_test, y_test_predict))\n",
        "\n",
        "plt.plot(scores)\n",
        "plt.title(\"Scores\")\n",
        "plt.xlabel(\"Neighbors (k)\")\n",
        "plt.ylabel(\"Scores value\")\n",
        "plt.show()\n",
        "plt.plot(acc)\n",
        "plt.title(\"Accuracy\")\n",
        "plt.xlabel(\"Neighbors (k)\")\n",
        "plt.ylabel(\"Accuracy value\")\n",
        "plt.show()\n",
        "plt.plot(MCC)\n",
        "plt.title(\"Matthews Correlation Coefficient\")\n",
        "plt.xlabel(\"Neighbors (k)\")\n",
        "plt.ylabel(\"MCC value\")\n",
        "plt.show()\n",
        "\n",
        "print(\"Best k by Scores:\",k_range[np.argmax(scores)],\". Value:\",scores[np.argmax(scores)])\n",
        "print(\"Best k by Accuracy:\",k_range[np.argmax(acc)],\". Value:\",acc[np.argmax(acc)])\n",
        "print(\"Best k by MCC:\",k_range[np.argmax(MCC)],\". Value:\",MCC[np.argmax(MCC)])"
      ],
      "execution_count": 76,
      "outputs": [
        {
          "output_type": "display_data",
          "data": {
            "image/png": "[encoded data removed]",
            "text/plain": [
              "<Figure size 432x288 with 1 Axes>"
            ]
          },
          "metadata": {
            "tags": [],
            "needs_background": "light"
          }
        },
        {
          "output_type": "display_data",
          "data": {
            "image/png": "[encoded data removed]",
            "text/plain": [
              "<Figure size 432x288 with 1 Axes>"
            ]
          },
          "metadata": {
            "tags": [],
            "needs_background": "light"
          }
        },
        {
          "output_type": "display_data",
          "data": {
            "image/png": "[encoded data removed]",
            "text/plain": [
              "<Figure size 432x288 with 1 Axes>"
            ]
          },
          "metadata": {
            "tags": [],
            "needs_background": "light"
          }
        },
        {
          "output_type": "stream",
          "text": [
            "Best k by Scores: 31 . Value: 0.51\n",
            "Best k by Accuracy: 31 . Value: 0.51\n",
            "Best k by MCC: 31 . Value: 0.3475966786667766\n"
          ],
          "name": "stdout"
        }
      ]
    },
    {
      "cell_type": "markdown",
      "metadata": {
        "id": "DhC3zxHhQU5L"
      },
      "source": [
        "*We will use the best MCC result, as it takes into consideration every possible error type*"
      ]
    },
    {
      "cell_type": "code",
      "metadata": {
        "colab": {
          "base_uri": "https://localhost:8080/",
          "height": 0
        },
        "id": "GYXA1-IxhHeJ",
        "outputId": "9307d14e-56d8-48fc-e50a-986150b3bc44"
      },
      "source": [
        "n_neighbors = 31\n",
        "\n",
        "knn = KNeighborsClassifier(n_neighbors, weights='uniform', metric=distance, metric_params=None, algorithm='auto')\n",
        "knn = knn.fit(X_train, y_train)\n",
        "\n",
        "y_predict=knn.predict(X_train)\n",
        "print('Train subset')\n",
        "print('Accuracy of K-NN classifier on training set: {:.5f}'\n",
        "     .format(accuracy_score(y_train, y_predict)))\n",
        "print('MCC of K-NN classifier on training set: {:.5f}'\n",
        "     .format(matthews_corrcoef(y_train, y_predict)))\n",
        "\n",
        "t0 = timeit.default_timer()\n",
        "y_predict_knn=knn.predict(X_test)\n",
        "time = timeit.default_timer() - t0\n",
        "print('\\nTest subset')\n",
        "print('Accuracy of K-NN classifier on test set: {:.5f}'\n",
        "     .format(accuracy_score(y_test, y_predict_knn)))\n",
        "print('MCC of K-NN classifier on test set: {:.5f}'\n",
        "     .format(matthews_corrcoef(y_test, y_predict_knn)))\n",
        "print('\\nClassification time: {:.5f}'.format(time),'s')"
      ],
      "execution_count": 78,
      "outputs": [
        {
          "output_type": "stream",
          "text": [
            "Train subset\n",
            "Accuracy of K-NN classifier on training set: 0.58429\n",
            "MCC of K-NN classifier on training set: 0.44627\n",
            "\n",
            "Test subset\n",
            "Accuracy of K-NN classifier on test set: 0.51000\n",
            "MCC of K-NN classifier on test set: 0.34760\n",
            "\n",
            "Classification time: 0.05736 s\n"
          ],
          "name": "stdout"
        }
      ]
    },
    {
      "cell_type": "markdown",
      "metadata": {
        "id": "IZRfdlytDZvS"
      },
      "source": [
        "**Logistic Regression Classifier**"
      ]
    },
    {
      "cell_type": "code",
      "metadata": {
        "colab": {
          "base_uri": "https://localhost:8080/",
          "height": 0
        },
        "id": "9UdFs6D2DYrd",
        "outputId": "2504ec1d-1239-4330-f60f-dd94b1dda7f0"
      },
      "source": [
        "#Solvers: 'newton-cg', 'lbfgs', 'liblinear', 'sag', 'saga'\n",
        "\n",
        "log_reg = LogisticRegression(C=0.1, random_state=1, solver='lbfgs', max_iter=1000)\n",
        "log_reg.fit(X_train, y_train)\n",
        "\n",
        "y_predict=log_reg.predict(X_train)\n",
        "print('Train subset')\n",
        "print('Accuracy of LR classifier on training set: {:.5f}'\n",
        "     .format(accuracy_score(y_train, y_predict)))\n",
        "print('MCC of LR classifier on training set: {:.5f}'\n",
        "     .format(matthews_corrcoef(y_train, y_predict)))\n",
        "\n",
        "t0 = timeit.default_timer()\n",
        "y_predict_LR=log_reg.predict(X_test)\n",
        "time = timeit.default_timer() - t0\n",
        "print('\\nTest subset')\n",
        "print('Accuracy of LR classifier on test set: {:.5f}'\n",
        "     .format(accuracy_score(y_test, y_predict_LR)))\n",
        "print('MCC of LR classifier on test set: {:.5f}'\n",
        "     .format(matthews_corrcoef(y_test, y_predict_LR)))\n",
        "print('\\nClassification time: {:.5f}'.format(time),'s')"
      ],
      "execution_count": 79,
      "outputs": [
        {
          "output_type": "stream",
          "text": [
            "Train subset\n",
            "Accuracy of LR classifier on training set: 0.80429\n",
            "MCC of LR classifier on training set: 0.74333\n",
            "\n",
            "Test subset\n",
            "Accuracy of LR classifier on test set: 0.77500\n",
            "MCC of LR classifier on test set: 0.70390\n",
            "\n",
            "Classification time: 0.00097 s\n"
          ],
          "name": "stdout"
        }
      ]
    },
    {
      "cell_type": "markdown",
      "metadata": {
        "id": "lOvkL_k2EAB8"
      },
      "source": [
        "**Kernel-SVM classifier**"
      ]
    },
    {
      "cell_type": "code",
      "metadata": {
        "id": "DytrJJr_EAhb",
        "colab": {
          "base_uri": "https://localhost:8080/",
          "height": 0
        },
        "outputId": "18e7723e-65f0-4338-9e20-d42607a1bc28"
      },
      "source": [
        "kernels=['linear', 'poly', 'rbf', 'sigmoid']\n",
        "#lineal\n",
        "#Kernel=0\n",
        "#msv = svm.SVC(kernel=kernels[Kernel])\n",
        "\n",
        "#polinomial cuadrático\n",
        "#Kernel=1\n",
        "#msv = svm.SVC(kernel=kernels[Kernel],degree=2)\n",
        "\n",
        "#polinomial cúbico\n",
        "Kernel=1\n",
        "msv = svm.SVC(kernel=kernels[Kernel],degree=3)\n",
        "#rbf \n",
        "#Kernel=3\n",
        "#msv = svm.SVC(kernel=kernels[Kernel],degree=3)\n",
        "#https://scikit-learn.org/stable/modules/generated/sklearn.svm.SVC.html#sklearn.svm.SVC\n",
        "\n",
        "msv.fit(X_train, y_train)\n",
        "\n",
        "y_predict=msv.predict(X_train)\n",
        "print('Train subset')\n",
        "print('Accuracy of SVM classifier on training set: {:.5f}'\n",
        "     .format(accuracy_score(y_train, y_predict)))\n",
        "print('MCC of SVM classifier on training set: {:.5f}'\n",
        "     .format(matthews_corrcoef(y_train, y_predict)))\n",
        "\n",
        "t0 = timeit.default_timer()\n",
        "y_predict_SVM=msv.predict(X_test)\n",
        "time = timeit.default_timer() - t0\n",
        "print('\\nTest subset')\n",
        "print('Accuracy of SVM classifier on test set: {:.5f}'\n",
        "     .format(accuracy_score(y_test, y_predict_SVM)))\n",
        "print('MCC of SVM classifier on test set: {:.5f}'\n",
        "     .format(matthews_corrcoef(y_test, y_predict_SVM)))\n",
        "print('\\nClassification time: {:.5f}'.format(time),'s')\n"
      ],
      "execution_count": 67,
      "outputs": [
        {
          "output_type": "stream",
          "text": [
            "Train subset\n",
            "Accuracy of SVM classifier on training set: 0.99357\n",
            "MCC of SVM classifier on training set: 0.99143\n",
            "\n",
            "Test subset\n",
            "Accuracy of SVM classifier on test set: 0.87833\n",
            "MCC of SVM classifier on test set: 0.83820\n",
            "\n",
            "Classification time: 0.01265 s\n"
          ],
          "name": "stdout"
        }
      ]
    },
    {
      "cell_type": "markdown",
      "metadata": {
        "id": "hYVntLqpR5LL"
      },
      "source": [
        "# PCA Analysis"
      ]
    },
    {
      "cell_type": "markdown",
      "metadata": {
        "id": "6DzAAFJSISLW"
      },
      "source": [
        "**Determining Principal Components**"
      ]
    },
    {
      "cell_type": "code",
      "metadata": {
        "colab": {
          "base_uri": "https://localhost:8080/",
          "height": 0
        },
        "id": "ObBQm96RITfm",
        "outputId": "695b0674-8c54-4c8a-b637-172c683d189a"
      },
      "source": [
        "from tabulate import tabulate\n",
        "from sklearn.decomposition import PCA\n",
        "var = np.var(X, axis=0)\n",
        "percentage = (var/np.sum(var))*100\n",
        "print(\"Percentage of total variance explained by every characteristic:\\n\")\n",
        "print(tabulate([percentage]))"
      ],
      "execution_count": 69,
      "outputs": [
        {
          "output_type": "stream",
          "text": [
            "Percentage of total variance explained by every characteristic:\n",
            "\n",
            "------  ----------  ----------  ---------  -----------  ---------  -----------  ----------  -------  -------  -------  ----------  ----------  ----------  -----------  -----------  -----------  -----------  -----------  -----------\n",
            "11.001  0.00107386  3.7937e-05  0.0187597  4.73931e-06  0.0713963  0.000298214  0.00209528  11.2206  67.0383  10.6426  0.00101137  0.00108127  0.00170095  1.42492e-05  1.42455e-05  1.42243e-05  1.03527e-05  1.42502e-05  1.42479e-05\n",
            "------  ----------  ----------  ---------  -----------  ---------  -----------  ----------  -------  -------  -------  ----------  ----------  ----------  -----------  -----------  -----------  -----------  -----------  -----------\n"
          ],
          "name": "stdout"
        }
      ]
    },
    {
      "cell_type": "markdown",
      "metadata": {
        "id": "MvN2TktxShom"
      },
      "source": [
        "**PCA fitting**"
      ]
    },
    {
      "cell_type": "code",
      "metadata": {
        "id": "LJzwQ72xMUoA"
      },
      "source": [
        "pca = PCA(n_components=1,whiten=True,svd_solver='arpack')\n",
        "pca.fit(X)\n",
        "X_PCA = pca.transform(X)\n",
        "\n",
        "X_PCA_train, X_PCA_test, y_train, y_test = train_test_split(X_PCA, y, random_state=0)\n",
        "\n",
        "scaler = StandardScaler()\n",
        "scaler.fit(X_PCA_train)\n",
        "X_PCA_train = scaler.transform(X_PCA_train)\n",
        "X_PCA_test = scaler.transform(X_PCA_test)"
      ],
      "execution_count": 70,
      "outputs": []
    },
    {
      "cell_type": "markdown",
      "metadata": {
        "id": "WuS6BYROSmDz"
      },
      "source": [
        "**PCA Classifiers**"
      ]
    },
    {
      "cell_type": "markdown",
      "metadata": {
        "id": "vKONF1ilM98z"
      },
      "source": [
        "*Kernel-SVM with PCA*"
      ]
    },
    {
      "cell_type": "code",
      "metadata": {
        "colab": {
          "base_uri": "https://localhost:8080/",
          "height": 0
        },
        "id": "Vad4_YqkM9X5",
        "outputId": "1a1af37a-04a4-44d3-8c8f-22e871db33df"
      },
      "source": [
        "kernels=['linear', 'poly', 'rbf', 'sigmoid']\n",
        "#lineal\n",
        "#Kernel=0\n",
        "#msv = svm.SVC(kernel=kernels[Kernel])\n",
        "\n",
        "#polinomial cuadrático\n",
        "#Kernel=1\n",
        "#msv = svm.SVC(kernel=kernels[Kernel],degree=2)\n",
        "\n",
        "#polinomial cúbico\n",
        "Kernel=1\n",
        "msv_PCA = svm.SVC(kernel=kernels[Kernel],degree=3)\n",
        "#rbf \n",
        "#Kernel=3\n",
        "#msv = svm.SVC(kernel=kernels[Kernel],degree=3)\n",
        "#https://scikit-learn.org/stable/modules/generated/sklearn.svm.SVC.html#sklearn.svm.SVC\n",
        "\n",
        "msv_PCA.fit(X_PCA_train, y_train)\n",
        "\n",
        "y_PCA_predict=msv_PCA.predict(X_PCA_train)\n",
        "print('Train subset with PCA')\n",
        "print('Accuracy of SVM classifier with PCA on training set: {:.5f}'\n",
        "     .format(accuracy_score(y_train, y_PCA_predict)))\n",
        "print('MCC of SVM classifier with PCA on training set: {:.5f}'\n",
        "     .format(matthews_corrcoef(y_train, y_PCA_predict)))\n",
        "\n",
        "t0 = timeit.default_timer()\n",
        "y_PCA_predict_SVM=msv_PCA.predict(X_PCA_test)\n",
        "time = timeit.default_timer() - t0\n",
        "print('\\nTest subset with PCA')\n",
        "print('Accuracy of SVM classifier with PCA on test set: {:.5f}'\n",
        "     .format(accuracy_score(y_test, y_PCA_predict_SVM)))\n",
        "print('MCC of SVM classifier with PCA on test set: {:.5f}'\n",
        "     .format(matthews_corrcoef(y_test, y_PCA_predict_SVM)))\n",
        "print('\\nClassification time: {:.5f}'.format(time),'s')"
      ],
      "execution_count": 37,
      "outputs": [
        {
          "output_type": "stream",
          "text": [
            "Train subset with PCA\n",
            "Accuracy of SVM classifier with PCA on training set: 0.72933\n",
            "MCC of SVM classifier with PCA on training set: 0.64611\n",
            "\n",
            "Test subset with PCA\n",
            "Accuracy of SVM classifier with PCA on test set: 0.72400\n",
            "MCC of SVM classifier with PCA on test set: 0.64302\n",
            "\n",
            "Classification time: 0.00663 s\n"
          ],
          "name": "stdout"
        }
      ]
    }
  ]
}